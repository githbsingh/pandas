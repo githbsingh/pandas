{
  "nbformat": 4,
  "nbformat_minor": 0,
  "metadata": {
    "colab": {
      "provenance": [],
      "authorship_tag": "ABX9TyNygAn6xQ98DACoIiGvZQkK",
      "include_colab_link": true
    },
    "kernelspec": {
      "name": "python3",
      "display_name": "Python 3"
    },
    "language_info": {
      "name": "python"
    }
  },
  "cells": [
    {
      "cell_type": "markdown",
      "metadata": {
        "id": "view-in-github",
        "colab_type": "text"
      },
      "source": [
        "<a href=\"https://colab.research.google.com/github/githbsingh/pandas/blob/main/2891_Method_Chaining.ipynb\" target=\"_parent\"><img src=\"https://colab.research.google.com/assets/colab-badge.svg\" alt=\"Open In Colab\"/></a>"
      ]
    },
    {
      "cell_type": "code",
      "execution_count": null,
      "metadata": {
        "id": "cOVIwzFYVcG1"
      },
      "outputs": [],
      "source": [
        "import pandas as pd\n",
        "\n",
        "def findHeavyAnimals(animals: pd.DataFrame) -> pd.DataFrame:\n",
        "    return animals[animals.weight > 100].sort_values(by='weight',ascending=False)['name'].to_frame()"
      ]
    }
  ]
}